{
  "nbformat": 4,
  "nbformat_minor": 0,
  "metadata": {
    "colab": {
      "provenance": [],
      "include_colab_link": true
    },
    "kernelspec": {
      "name": "python3",
      "display_name": "Python 3"
    }
  },
  "cells": [
    {
      "cell_type": "markdown",
      "metadata": {
        "id": "view-in-github",
        "colab_type": "text"
      },
      "source": [
        "<a href=\"https://colab.research.google.com/github/vasudevanmk/M-L-A-Z/blob/main/Artificial_Neural_Network.ipynb\" target=\"_parent\"><img src=\"https://colab.research.google.com/assets/colab-badge.svg\" alt=\"Open In Colab\"/></a>"
      ]
    },
    {
      "cell_type": "markdown",
      "metadata": {
        "id": "3cbb7fRy-eyr"
      },
      "source": [
        "# Artificial Neural Network For Regression"
      ]
    },
    {
      "cell_type": "code",
      "source": [
        "from google.colab import drive\n",
        "drive.mount('/content/drive')"
      ],
      "metadata": {
        "colab": {
          "base_uri": "https://localhost:8080/"
        },
        "id": "eJWtrno9KzQA",
        "outputId": "70dabfe5-f6df-4713-9614-e682c86e333d"
      },
      "execution_count": 1,
      "outputs": [
        {
          "output_type": "stream",
          "name": "stdout",
          "text": [
            "Mounted at /content/drive\n"
          ]
        }
      ]
    },
    {
      "cell_type": "markdown",
      "metadata": {
        "id": "8sNDnxE2-pwE"
      },
      "source": [
        "### Importing the libraries"
      ]
    },
    {
      "cell_type": "code",
      "metadata": {
        "id": "lxChR1Rk-umf"
      },
      "source": [
        "import numpy as np\n",
        "import pandas as pd\n",
        "import tensorflow as tf"
      ],
      "execution_count": 2,
      "outputs": []
    },
    {
      "cell_type": "code",
      "metadata": {
        "id": "uBTqR3nacj0e",
        "colab": {
          "base_uri": "https://localhost:8080/",
          "height": 36
        },
        "outputId": "3d4896fb-68a3-4055-c3b2-5222d63fb7e2"
      },
      "source": [
        "tf.__version__"
      ],
      "execution_count": 3,
      "outputs": [
        {
          "output_type": "execute_result",
          "data": {
            "text/plain": [
              "'2.12.0'"
            ],
            "application/vnd.google.colaboratory.intrinsic+json": {
              "type": "string"
            }
          },
          "metadata": {},
          "execution_count": 3
        }
      ]
    },
    {
      "cell_type": "markdown",
      "metadata": {
        "id": "AG3FQEch-yuA"
      },
      "source": [
        "## Part 1 - Data Preprocessing"
      ]
    },
    {
      "cell_type": "markdown",
      "metadata": {
        "id": "-4zq8Mza_D9O"
      },
      "source": [
        "### Importing the dataset"
      ]
    },
    {
      "cell_type": "code",
      "metadata": {
        "id": "B9CV13Co_HHM"
      },
      "source": [
        "dataset = pd.read_excel('/content/drive/MyDrive/Machine Learning A-Z /Part 8 - Deep Learning/Section 39 - Artificial Neural Networks (ANN)/Python/Folds5x2_pp.xlsx')\n",
        "X = dataset.iloc[:, :-1].values\n",
        "y = dataset.iloc[:, -1].values"
      ],
      "execution_count": 6,
      "outputs": []
    },
    {
      "cell_type": "code",
      "source": [
        "print(dataset)"
      ],
      "metadata": {
        "colab": {
          "base_uri": "https://localhost:8080/"
        },
        "id": "tEYRh-roMzPb",
        "outputId": "51e98366-048b-4a61-8895-17c5a3d08e1b"
      },
      "execution_count": 7,
      "outputs": [
        {
          "output_type": "stream",
          "name": "stdout",
          "text": [
            "         AT      V       AP     RH      PE\n",
            "0     14.96  41.76  1024.07  73.17  463.26\n",
            "1     25.18  62.96  1020.04  59.08  444.37\n",
            "2      5.11  39.40  1012.16  92.14  488.56\n",
            "3     20.86  57.32  1010.24  76.64  446.48\n",
            "4     10.82  37.50  1009.23  96.62  473.90\n",
            "...     ...    ...      ...    ...     ...\n",
            "9563  16.65  49.69  1014.01  91.00  460.03\n",
            "9564  13.19  39.18  1023.67  66.78  469.62\n",
            "9565  31.32  74.33  1012.92  36.48  429.57\n",
            "9566  24.48  69.45  1013.86  62.39  435.74\n",
            "9567  21.60  62.52  1017.23  67.87  453.28\n",
            "\n",
            "[9568 rows x 5 columns]\n"
          ]
        }
      ]
    },
    {
      "cell_type": "code",
      "source": [
        "print(X,y)"
      ],
      "metadata": {
        "colab": {
          "base_uri": "https://localhost:8080/"
        },
        "id": "lHqOQ_W2MzZb",
        "outputId": "6e5e3dfa-bb38-45ba-b88b-9d7bbc6fb48f"
      },
      "execution_count": 9,
      "outputs": [
        {
          "output_type": "stream",
          "name": "stdout",
          "text": [
            "[[  14.96   41.76 1024.07   73.17]\n",
            " [  25.18   62.96 1020.04   59.08]\n",
            " [   5.11   39.4  1012.16   92.14]\n",
            " ...\n",
            " [  31.32   74.33 1012.92   36.48]\n",
            " [  24.48   69.45 1013.86   62.39]\n",
            " [  21.6    62.52 1017.23   67.87]] [463.26 444.37 488.56 ... 429.57 435.74 453.28]\n"
          ]
        }
      ]
    },
    {
      "cell_type": "markdown",
      "metadata": {
        "id": "VC6omXel_Up0"
      },
      "source": [
        "### Splitting the dataset into the Training set and Test set"
      ]
    },
    {
      "cell_type": "code",
      "metadata": {
        "id": "L5edeb2r_agx"
      },
      "source": [
        "from sklearn.model_selection import train_test_split\n",
        "X_train, X_test, y_train, y_test = train_test_split(X, y, test_size = 0.2, random_state = 0)"
      ],
      "execution_count": 10,
      "outputs": []
    },
    {
      "cell_type": "markdown",
      "metadata": {
        "id": "_mSLlAT9_eyI"
      },
      "source": [
        "## Part 2 - Building the ANN"
      ]
    },
    {
      "cell_type": "markdown",
      "metadata": {
        "id": "CsBULd_f_wLY"
      },
      "source": [
        "### Initializing the ANN"
      ]
    },
    {
      "cell_type": "code",
      "metadata": {
        "id": "J6Hd97Ls__Nz"
      },
      "source": [
        "ann = tf.keras.models.Sequential()"
      ],
      "execution_count": 11,
      "outputs": []
    },
    {
      "cell_type": "markdown",
      "metadata": {
        "id": "iitAFJS_ABUn"
      },
      "source": [
        "### Adding the input layer and the first hidden layer"
      ]
    },
    {
      "cell_type": "code",
      "metadata": {
        "id": "ksO_Vv40AHix"
      },
      "source": [
        "ann.add(tf.keras.layers.Dense(units=6, activation='relu'))"
      ],
      "execution_count": 12,
      "outputs": []
    },
    {
      "cell_type": "markdown",
      "metadata": {
        "id": "-lb4kK_wAKbs"
      },
      "source": [
        "### Adding the second hidden layer"
      ]
    },
    {
      "cell_type": "code",
      "metadata": {
        "id": "c2357OqEAQOQ"
      },
      "source": [
        "ann.add(tf.keras.layers.Dense(units=6, activation='relu'))"
      ],
      "execution_count": 13,
      "outputs": []
    },
    {
      "cell_type": "markdown",
      "metadata": {
        "id": "jwMOmKb3AdBY"
      },
      "source": [
        "### Adding the output layer"
      ]
    },
    {
      "cell_type": "code",
      "metadata": {
        "id": "YFATpzsUAkLL"
      },
      "source": [
        "ann.add(tf.keras.layers.Dense(units=1))"
      ],
      "execution_count": 14,
      "outputs": []
    },
    {
      "cell_type": "markdown",
      "metadata": {
        "id": "fq7e4fF6A1yy"
      },
      "source": [
        "## Part 3 - Training the ANN"
      ]
    },
    {
      "cell_type": "markdown",
      "metadata": {
        "id": "qDeylAs2An25"
      },
      "source": [
        "### Compiling the ANN"
      ]
    },
    {
      "cell_type": "code",
      "metadata": {
        "id": "pesgbWlCAtB4"
      },
      "source": [
        "ann.compile(optimizer = 'adam', loss = 'mean_squared_error')"
      ],
      "execution_count": 15,
      "outputs": []
    },
    {
      "cell_type": "markdown",
      "metadata": {
        "id": "YjVuiybYOo7r"
      },
      "source": [
        "### Training the ANN model on the Training set"
      ]
    },
    {
      "cell_type": "code",
      "metadata": {
        "id": "c_vV-tiiA5zn",
        "colab": {
          "base_uri": "https://localhost:8080/"
        },
        "outputId": "c2ce5fd8-b3e9-42b1-b1cb-c2e9136e9f45"
      },
      "source": [
        "ann.fit(X_train, y_train, batch_size = 32, epochs = 100)"
      ],
      "execution_count": 16,
      "outputs": [
        {
          "output_type": "stream",
          "name": "stdout",
          "text": [
            "Epoch 1/100\n",
            "240/240 [==============================] - 2s 2ms/step - loss: 98102.8125\n",
            "Epoch 2/100\n",
            "240/240 [==============================] - 0s 2ms/step - loss: 2283.1460\n",
            "Epoch 3/100\n",
            "240/240 [==============================] - 0s 2ms/step - loss: 236.0152\n",
            "Epoch 4/100\n",
            "240/240 [==============================] - 0s 2ms/step - loss: 216.4341\n",
            "Epoch 5/100\n",
            "240/240 [==============================] - 0s 2ms/step - loss: 196.7196\n",
            "Epoch 6/100\n",
            "240/240 [==============================] - 0s 2ms/step - loss: 175.1253\n",
            "Epoch 7/100\n",
            "240/240 [==============================] - 1s 2ms/step - loss: 155.1262\n",
            "Epoch 8/100\n",
            "240/240 [==============================] - 1s 2ms/step - loss: 136.1695\n",
            "Epoch 9/100\n",
            "240/240 [==============================] - 1s 2ms/step - loss: 119.7183\n",
            "Epoch 10/100\n",
            "240/240 [==============================] - 1s 2ms/step - loss: 106.8924\n",
            "Epoch 11/100\n",
            "240/240 [==============================] - 1s 2ms/step - loss: 94.3030\n",
            "Epoch 12/100\n",
            "240/240 [==============================] - 1s 2ms/step - loss: 84.0247\n",
            "Epoch 13/100\n",
            "240/240 [==============================] - 1s 2ms/step - loss: 75.5367\n",
            "Epoch 14/100\n",
            "240/240 [==============================] - 0s 2ms/step - loss: 69.0042\n",
            "Epoch 15/100\n",
            "240/240 [==============================] - 0s 2ms/step - loss: 62.0951\n",
            "Epoch 16/100\n",
            "240/240 [==============================] - 0s 2ms/step - loss: 57.3628\n",
            "Epoch 17/100\n",
            "240/240 [==============================] - 0s 2ms/step - loss: 53.3781\n",
            "Epoch 18/100\n",
            "240/240 [==============================] - 0s 2ms/step - loss: 49.2526\n",
            "Epoch 19/100\n",
            "240/240 [==============================] - 0s 2ms/step - loss: 46.9329\n",
            "Epoch 20/100\n",
            "240/240 [==============================] - 0s 2ms/step - loss: 45.3448\n",
            "Epoch 21/100\n",
            "240/240 [==============================] - 0s 2ms/step - loss: 42.6235\n",
            "Epoch 22/100\n",
            "240/240 [==============================] - 0s 2ms/step - loss: 41.7921\n",
            "Epoch 23/100\n",
            "240/240 [==============================] - 0s 2ms/step - loss: 39.0612\n",
            "Epoch 24/100\n",
            "240/240 [==============================] - 0s 2ms/step - loss: 38.6689\n",
            "Epoch 25/100\n",
            "240/240 [==============================] - 0s 2ms/step - loss: 38.7883\n",
            "Epoch 26/100\n",
            "240/240 [==============================] - 0s 2ms/step - loss: 35.5141\n",
            "Epoch 27/100\n",
            "240/240 [==============================] - 0s 2ms/step - loss: 35.2085\n",
            "Epoch 28/100\n",
            "240/240 [==============================] - 0s 2ms/step - loss: 33.9477\n",
            "Epoch 29/100\n",
            "240/240 [==============================] - 0s 2ms/step - loss: 32.8585\n",
            "Epoch 30/100\n",
            "240/240 [==============================] - 0s 2ms/step - loss: 33.8906\n",
            "Epoch 31/100\n",
            "240/240 [==============================] - 0s 2ms/step - loss: 33.1821\n",
            "Epoch 32/100\n",
            "240/240 [==============================] - 0s 2ms/step - loss: 30.9885\n",
            "Epoch 33/100\n",
            "240/240 [==============================] - 0s 2ms/step - loss: 31.0251\n",
            "Epoch 34/100\n",
            "240/240 [==============================] - 0s 2ms/step - loss: 30.3668\n",
            "Epoch 35/100\n",
            "240/240 [==============================] - 0s 2ms/step - loss: 29.7857\n",
            "Epoch 36/100\n",
            "240/240 [==============================] - 0s 2ms/step - loss: 30.0726\n",
            "Epoch 37/100\n",
            "240/240 [==============================] - 0s 2ms/step - loss: 29.2336\n",
            "Epoch 38/100\n",
            "240/240 [==============================] - 0s 2ms/step - loss: 28.7693\n",
            "Epoch 39/100\n",
            "240/240 [==============================] - 1s 2ms/step - loss: 29.4479\n",
            "Epoch 40/100\n",
            "240/240 [==============================] - 1s 2ms/step - loss: 29.0752\n",
            "Epoch 41/100\n",
            "240/240 [==============================] - 1s 2ms/step - loss: 29.4818\n",
            "Epoch 42/100\n",
            "240/240 [==============================] - 1s 2ms/step - loss: 28.5633\n",
            "Epoch 43/100\n",
            "240/240 [==============================] - 1s 2ms/step - loss: 29.0402\n",
            "Epoch 44/100\n",
            "240/240 [==============================] - 1s 2ms/step - loss: 27.6643\n",
            "Epoch 45/100\n",
            "240/240 [==============================] - 1s 2ms/step - loss: 27.9334\n",
            "Epoch 46/100\n",
            "240/240 [==============================] - 1s 3ms/step - loss: 28.4824\n",
            "Epoch 47/100\n",
            "240/240 [==============================] - 0s 2ms/step - loss: 27.6256\n",
            "Epoch 48/100\n",
            "240/240 [==============================] - 0s 2ms/step - loss: 28.7681\n",
            "Epoch 49/100\n",
            "240/240 [==============================] - 0s 2ms/step - loss: 26.8345\n",
            "Epoch 50/100\n",
            "240/240 [==============================] - 0s 2ms/step - loss: 28.6776\n",
            "Epoch 51/100\n",
            "240/240 [==============================] - 0s 2ms/step - loss: 27.5655\n",
            "Epoch 52/100\n",
            "240/240 [==============================] - 0s 2ms/step - loss: 27.4340\n",
            "Epoch 53/100\n",
            "240/240 [==============================] - 0s 2ms/step - loss: 28.0189\n",
            "Epoch 54/100\n",
            "240/240 [==============================] - 0s 2ms/step - loss: 27.8472\n",
            "Epoch 55/100\n",
            "240/240 [==============================] - 0s 2ms/step - loss: 28.3819\n",
            "Epoch 56/100\n",
            "240/240 [==============================] - 0s 2ms/step - loss: 27.2816\n",
            "Epoch 57/100\n",
            "240/240 [==============================] - 0s 2ms/step - loss: 27.9301\n",
            "Epoch 58/100\n",
            "240/240 [==============================] - 0s 2ms/step - loss: 27.4501\n",
            "Epoch 59/100\n",
            "240/240 [==============================] - 0s 2ms/step - loss: 27.5571\n",
            "Epoch 60/100\n",
            "240/240 [==============================] - 0s 2ms/step - loss: 27.2228\n",
            "Epoch 61/100\n",
            "240/240 [==============================] - 0s 2ms/step - loss: 28.9309\n",
            "Epoch 62/100\n",
            "240/240 [==============================] - 0s 2ms/step - loss: 26.9660\n",
            "Epoch 63/100\n",
            "240/240 [==============================] - 0s 2ms/step - loss: 28.0702\n",
            "Epoch 64/100\n",
            "240/240 [==============================] - 0s 2ms/step - loss: 29.2493\n",
            "Epoch 65/100\n",
            "240/240 [==============================] - 0s 2ms/step - loss: 27.8859\n",
            "Epoch 66/100\n",
            "240/240 [==============================] - 0s 2ms/step - loss: 27.7775\n",
            "Epoch 67/100\n",
            "240/240 [==============================] - 0s 2ms/step - loss: 28.3796\n",
            "Epoch 68/100\n",
            "240/240 [==============================] - 0s 2ms/step - loss: 27.5153\n",
            "Epoch 69/100\n",
            "240/240 [==============================] - 0s 2ms/step - loss: 28.0225\n",
            "Epoch 70/100\n",
            "240/240 [==============================] - 0s 2ms/step - loss: 28.4976\n",
            "Epoch 71/100\n",
            "240/240 [==============================] - 0s 2ms/step - loss: 27.6215\n",
            "Epoch 72/100\n",
            "240/240 [==============================] - 1s 3ms/step - loss: 27.7960\n",
            "Epoch 73/100\n",
            "240/240 [==============================] - 1s 2ms/step - loss: 28.2361\n",
            "Epoch 74/100\n",
            "240/240 [==============================] - 1s 3ms/step - loss: 27.4570\n",
            "Epoch 75/100\n",
            "240/240 [==============================] - 1s 3ms/step - loss: 27.6023\n",
            "Epoch 76/100\n",
            "240/240 [==============================] - 1s 3ms/step - loss: 27.1347\n",
            "Epoch 77/100\n",
            "240/240 [==============================] - 1s 3ms/step - loss: 28.0569\n",
            "Epoch 78/100\n",
            "240/240 [==============================] - 1s 3ms/step - loss: 27.4389\n",
            "Epoch 79/100\n",
            "240/240 [==============================] - 0s 2ms/step - loss: 27.8196\n",
            "Epoch 80/100\n",
            "240/240 [==============================] - 0s 2ms/step - loss: 27.9057\n",
            "Epoch 81/100\n",
            "240/240 [==============================] - 0s 2ms/step - loss: 27.8392\n",
            "Epoch 82/100\n",
            "240/240 [==============================] - 0s 2ms/step - loss: 28.2546\n",
            "Epoch 83/100\n",
            "240/240 [==============================] - 0s 2ms/step - loss: 28.1616\n",
            "Epoch 84/100\n",
            "240/240 [==============================] - 0s 2ms/step - loss: 28.7953\n",
            "Epoch 85/100\n",
            "240/240 [==============================] - 0s 2ms/step - loss: 27.4373\n",
            "Epoch 86/100\n",
            "240/240 [==============================] - 0s 2ms/step - loss: 27.6243\n",
            "Epoch 87/100\n",
            "240/240 [==============================] - 0s 2ms/step - loss: 27.3560\n",
            "Epoch 88/100\n",
            "240/240 [==============================] - 0s 2ms/step - loss: 29.0034\n",
            "Epoch 89/100\n",
            "240/240 [==============================] - 0s 2ms/step - loss: 28.4488\n",
            "Epoch 90/100\n",
            "240/240 [==============================] - 0s 2ms/step - loss: 26.6905\n",
            "Epoch 91/100\n",
            "240/240 [==============================] - 0s 2ms/step - loss: 27.3855\n",
            "Epoch 92/100\n",
            "240/240 [==============================] - 0s 2ms/step - loss: 27.2895\n",
            "Epoch 93/100\n",
            "240/240 [==============================] - 0s 2ms/step - loss: 28.5263\n",
            "Epoch 94/100\n",
            "240/240 [==============================] - 0s 2ms/step - loss: 26.9028\n",
            "Epoch 95/100\n",
            "240/240 [==============================] - 0s 2ms/step - loss: 28.0684\n",
            "Epoch 96/100\n",
            "240/240 [==============================] - 0s 2ms/step - loss: 27.4549\n",
            "Epoch 97/100\n",
            "240/240 [==============================] - 0s 2ms/step - loss: 27.7633\n",
            "Epoch 98/100\n",
            "240/240 [==============================] - 0s 2ms/step - loss: 27.2394\n",
            "Epoch 99/100\n",
            "240/240 [==============================] - 0s 2ms/step - loss: 27.5518\n",
            "Epoch 100/100\n",
            "240/240 [==============================] - 0s 2ms/step - loss: 27.5827\n"
          ]
        },
        {
          "output_type": "execute_result",
          "data": {
            "text/plain": [
              "<keras.callbacks.History at 0x7f12601be9e0>"
            ]
          },
          "metadata": {},
          "execution_count": 16
        }
      ]
    },
    {
      "cell_type": "markdown",
      "metadata": {
        "id": "0H0zKKNEBLD5"
      },
      "source": [
        "### Predicting the results of the Test set"
      ]
    },
    {
      "cell_type": "code",
      "metadata": {
        "id": "IA0yApEmBG1X",
        "colab": {
          "base_uri": "https://localhost:8080/"
        },
        "outputId": "1e0be6d4-e3de-446f-be9c-aef731c21cc9"
      },
      "source": [
        "y_pred = ann.predict(X_test)\n",
        "np.set_printoptions(precision=2)\n",
        "print(np.concatenate((y_pred.reshape(len(y_pred),1), y_test.reshape(len(y_test),1)),1))"
      ],
      "execution_count": 17,
      "outputs": [
        {
          "output_type": "stream",
          "name": "stdout",
          "text": [
            "60/60 [==============================] - 0s 1ms/step\n",
            "[[431.37 431.23]\n",
            " [462.52 460.01]\n",
            " [466.1  461.14]\n",
            " ...\n",
            " [473.24 473.26]\n",
            " [440.02 438.  ]\n",
            " [459.25 463.28]]\n"
          ]
        }
      ]
    }
  ]
}